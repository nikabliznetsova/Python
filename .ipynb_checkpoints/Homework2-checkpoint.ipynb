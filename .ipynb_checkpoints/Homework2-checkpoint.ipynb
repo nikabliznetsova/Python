{
 "cells": [
  {
   "cell_type": "markdown",
   "metadata": {},
   "source": [
    "На вход подается текст, содержащий разные буквы латинского алфавита и символы пунктуации. Нужно найти букву, которая встречается чаще всего. Если таких букв больше одной, то нужно вернуть ту, что стоит выше в алфавите. Регистр букв не учитывается, то есть «А» == «а». "
   ]
  },
  {
   "cell_type": "code",
   "execution_count": 1,
   "metadata": {},
   "outputs": [
    {
     "name": "stdout",
     "output_type": "stream",
     "text": [
      "Counter({'e': 125, 't': 118, 'a': 87, 'o': 79, 'i': 78, 'h': 73, 'r': 66, 'n': 59, 's': 58, 'd': 44, 'u': 31, 'l': 30, 'c': 28, 'w': 28, 'b': 25, 'g': 19, 'f': 19, 'y': 16, 'p': 14, 'k': 13, 'v': 10, 'm': 9, 'q': 1, 'j': 1})\n",
      "e\n"
     ]
    }
   ],
   "source": [
    "from collections import Counter\n",
    "import re\n",
    "txt = '''Alice was beginning to get very tired of sitting by her sister on the bank, and of having nothing to do:  once or twice she had\n",
    "peeped into the book her sister was reading, but it had no pictures or conversations in it, `and what is the use of a book,'thought Alice `without pictures or conversation?'\n",
    "So she was considering in her own mind (as well as she could, for the hot day made her feel very sleepy and stupid), whether\n",
    "the pleasure of making a daisy-chain would be worth the trouble of getting up and picking the daisies, when suddenly a White\n",
    "Rabbit with pink eyes ran close by her.\n",
    "There was nothing so VERY remarkable in that; nor did Alice think it so VERY much out of the way to hear the Rabbit say to\n",
    "itself, `Oh dear!  Oh dear!  I shall be late!'  (when she thought it over afterwards, it occurred to her that she ought to have\n",
    "wondered at this, but at the time it all seemed quite natural); but when the Rabbit actually TOOK A WATCH OUT OF ITS WAISTCOAT-\n",
    "POCKET, and looked at it, and then hurried on, Alice started to her feet, for it flashed across her mind that she had never\n",
    "before see a rabbit with either a waistcoat-pocket, or a watch to take out of it, and burning with curiosity, she ran across the\n",
    "field after it, and fortunately was just in time to see it pop down a large rabbit-hole under the hedge.'''\n",
    "lower_txt = txt.lower()\n",
    "txt2 = re.findall(r'\\w', lower_txt)\n",
    "count = Counter(txt2)\n",
    "print(count)\n",
    "abc = 'abcdefghijklmnopqrstuvwxyz'\n",
    "def max_ch(text):\n",
    "    kmax = None\n",
    "    vmax = 0\n",
    "    for k,v in text.items():\n",
    "        if (vmax < v):\n",
    "            vmax = v\n",
    "            kmax = k\n",
    "        elif (vmax == v):\n",
    "            if (abc.find(kmax) > abc.find(k)):\n",
    "                kmax = k\n",
    "                vmax = v\n",
    "    return kmax\n",
    "print(max_ch(count))"
   ]
  },
  {
   "cell_type": "markdown",
   "metadata": {},
   "source": [
    "На вход подается строка, состоящая из слов и чисел, разделенных одним пробелом. Слова состоят только из букв. Определить, имеется ли в передаваемой строке непрерывная последовательность из трех слов. "
   ]
  },
  {
   "cell_type": "code",
   "execution_count": 2,
   "metadata": {},
   "outputs": [
    {
     "data": {
      "text/plain": [
       "False"
      ]
     },
     "execution_count": 2,
     "metadata": {},
     "output_type": "execute_result"
    }
   ],
   "source": [
    "str = 'Hello world 6 you 2020 are amazing!'\n",
    "def three_in_row(str):\n",
    "    new_str = str.split()\n",
    "    count = 0\n",
    "    for e in new_str:\n",
    "        if e.isalpha():\n",
    "            count += 1\n",
    "            if (count >= 3):\n",
    "                return True\n",
    "        else:\n",
    "            count = 0\n",
    "    return False\n",
    "three_in_row(str)"
   ]
  },
  {
   "cell_type": "markdown",
   "metadata": {},
   "source": [
    "Найти максимальную длину непрерывной последовательности одинаковых букв во входной строке. \n",
    "\n",
    "Пример: «аааабббв» == 4 "
   ]
  },
  {
   "cell_type": "code",
   "execution_count": 12,
   "metadata": {},
   "outputs": [
    {
     "name": "stdout",
     "output_type": "stream",
     "text": [
      "3\n",
      "3\n",
      "4\n",
      "1\n"
     ]
    },
    {
     "data": {
      "text/plain": [
       "4"
      ]
     },
     "execution_count": 12,
     "metadata": {},
     "output_type": "execute_result"
    }
   ],
   "source": [
    "str = 'aaabbbccccd'\n",
    "def func(str):\n",
    "    d = {}\n",
    "    d.clear()\n",
    "    res = []\n",
    "    maxl = 0\n",
    "    for e in str:\n",
    "        d[e] = d.get(e, 0)+1\n",
    "    for i in d:\n",
    "        res.append(re.findall(r'' + i + r'+', str))\n",
    "    for c in res:\n",
    "        print(len(c[0]))\n",
    "        if (len(c[0]) > maxl):\n",
    "            maxl = len(c[0])\n",
    "    return maxl\n",
    "func(str)"
   ]
  },
  {
   "cell_type": "markdown",
   "metadata": {},
   "source": [
    "На вход подается строка, содержащая латинские буквы, знаки пунктуации и пробелы. Необходимо вернуть строку собранную из букв в верхнем регистре соединенных без пробелов в порядке появления. \n",
    "\n",
    "Пример: f(‘HELL nO’) == ‘HELLO’ "
   ]
  },
  {
   "cell_type": "code",
   "execution_count": 20,
   "metadata": {},
   "outputs": [
    {
     "name": "stdout",
     "output_type": "stream",
     "text": [
      "HELLO\n"
     ]
    }
   ],
   "source": [
    "str = 'HELL nO'\n",
    "lst = re.findall(r'([A-Z])', str)\n",
    "print(''.join(lst))    "
   ]
  },
  {
   "cell_type": "markdown",
   "metadata": {},
   "source": [
    "На вход подается массив чисел. Необходимо отсортировать массив по частоте элементов. Если два элемента имеют одинаковую частоту, то нужно отсортировать по порядку появления в массиве. \n",
    "\n",
    "Пример: [4,4,6,4,2,2,4,6] => [4,4,4,4,6,6,2,2] "
   ]
  },
  {
   "cell_type": "code",
   "execution_count": null,
   "metadata": {},
   "outputs": [],
   "source": []
  },
  {
   "cell_type": "markdown",
   "metadata": {},
   "source": [
    "На вход подается список уникальных значений (set) и одно число. Необходимо вернуть ближайшее ко входному значение из списка. Если значений два, то нужно вернуть наименьшее. В задаче участвуют только целые числа. \n",
    "\n",
    "Пример: f({1, 2, 4, 5}, 3) == 2 "
   ]
  },
  {
   "cell_type": "code",
   "execution_count": null,
   "metadata": {},
   "outputs": [],
   "source": []
  },
  {
   "cell_type": "markdown",
   "metadata": {},
   "source": [
    "Необходимо найти количество путей, которыми шашка может пройти в дамки по шахматной доске 8x8, при условии, что двигаться можно только по диагонали вверх. На вход подается две координаты стартовой позиции. "
   ]
  },
  {
   "cell_type": "code",
   "execution_count": null,
   "metadata": {},
   "outputs": [],
   "source": []
  }
 ],
 "metadata": {
  "kernelspec": {
   "display_name": "Python 3",
   "language": "python",
   "name": "python3"
  },
  "language_info": {
   "codemirror_mode": {
    "name": "ipython",
    "version": 3
   },
   "file_extension": ".py",
   "mimetype": "text/x-python",
   "name": "python",
   "nbconvert_exporter": "python",
   "pygments_lexer": "ipython3",
   "version": "3.7.6"
  }
 },
 "nbformat": 4,
 "nbformat_minor": 4
}
