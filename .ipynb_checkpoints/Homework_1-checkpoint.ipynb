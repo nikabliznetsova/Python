{
 "cells": [
  {
   "cell_type": "markdown",
   "metadata": {},
   "source": [
    "Task 1\n",
    "Вернуть первый элемент, третий элемент, второй с конца элемент входного массива. "
   ]
  },
  {
   "cell_type": "code",
   "execution_count": 25,
   "metadata": {},
   "outputs": [
    {
     "name": "stdout",
     "output_type": "stream",
     "text": [
      "[7, 0, 87, 30, 85, 51, 64, 85, 62, 24] 7 87 62\n"
     ]
    }
   ],
   "source": [
    "from random import randint\n",
    "array = [randint(0, 100) for i in range(10)]\n",
    "print(array, array[0], array[2], array[-2])"
   ]
  },
  {
   "cell_type": "markdown",
   "metadata": {},
   "source": [
    "Task 2\n",
    "Дан массив чисел и число N. Возвести число в позиции N в степень N. Если это невозможно, то вернуть -1. "
   ]
  },
  {
   "cell_type": "code",
   "execution_count": 24,
   "metadata": {},
   "outputs": [
    {
     "name": "stdout",
     "output_type": "stream",
     "text": [
      "enter length of array:\n",
      "10\n",
      "enter N:\n",
      "2\n",
      "[9, 7, 10, 6, 6, 10, 2, 8, 6, 9]\n",
      "49\n"
     ]
    }
   ],
   "source": [
    "print('enter length of array:')\n",
    "length = int(input())\n",
    "array = [randint(0, 10) for i in range(length)]\n",
    "print('enter N:')\n",
    "int_N = int(input())\n",
    "print(array)\n",
    "if (int_N < length):\n",
    "    print(array[int_N-1]**int_N)\n",
    "else:\n",
    "    print(-1)"
   ]
  },
  {
   "cell_type": "markdown",
   "metadata": {},
   "source": [
    "Task 3 Найти второй индекс входного символа во входной строке. \n",
    "\n",
    "Пример: f(«сбербанк», «б») == 4 "
   ]
  },
  {
   "cell_type": "code",
   "execution_count": 27,
   "metadata": {},
   "outputs": [
    {
     "name": "stdout",
     "output_type": "stream",
     "text": [
      "enter the word:\n",
      "Сбербанк\n",
      "enter the letter:\n",
      "б\n"
     ]
    },
    {
     "data": {
      "text/plain": [
       "4"
      ]
     },
     "execution_count": 27,
     "metadata": {},
     "output_type": "execute_result"
    }
   ],
   "source": [
    "print('enter the word:')\n",
    "word = input()\n",
    "print('enter the letter:')\n",
    "letter = input()\n",
    "word.find(letter, word.find(letter)+1)"
   ]
  },
  {
   "cell_type": "markdown",
   "metadata": {},
   "source": [
    " Task 4\n",
    " \n",
    " Найти количество нулей в конце входного числа. \n",
    "\n",
    "Пример: f(101100110100) == 2 "
   ]
  },
  {
   "cell_type": "code",
   "execution_count": 75,
   "metadata": {},
   "outputs": [
    {
     "name": "stdout",
     "output_type": "stream",
     "text": [
      "enter number:\n",
      "111001100\n"
     ]
    },
    {
     "data": {
      "text/plain": [
       "2"
      ]
     },
     "execution_count": 75,
     "metadata": {},
     "output_type": "execute_result"
    }
   ],
   "source": [
    "print('enter number:')\n",
    "num = input()\n",
    "amount = 0\n",
    "for e in range(len(num)):\n",
    "    if (num[len(num)-e-1] == '0'):\n",
    "        amount+=1\n",
    "    else:\n",
    "        break        \n",
    "amount   "
   ]
  },
  {
   "cell_type": "markdown",
   "metadata": {},
   "source": [
    "Task 5\n",
    "\n",
    "Представить входную строку в обратном порядке. "
   ]
  },
  {
   "cell_type": "code",
   "execution_count": 74,
   "metadata": {},
   "outputs": [
    {
     "name": "stdout",
     "output_type": "stream",
     "text": [
      "enter the string:\n",
      "Сбербанк\n",
      "кнабребС\n"
     ]
    }
   ],
   "source": [
    "print('enter the string:')\n",
    "string = input()\n",
    "print(string[::-1])"
   ]
  },
  {
   "cell_type": "markdown",
   "metadata": {},
   "source": [
    "Task 6\n",
    "\n",
    "Проверить состоит ли входной массив исключительного из одного и того же значения. "
   ]
  },
  {
   "cell_type": "code",
   "execution_count": 77,
   "metadata": {},
   "outputs": [
    {
     "name": "stdout",
     "output_type": "stream",
     "text": [
      "{'0': 3}\n",
      "Все элементы идентичны\n"
     ]
    }
   ],
   "source": [
    "arr = ['0', '0', '0']\n",
    "dictionary = dict({})\n",
    "for e in arr:\n",
    "    if dictionary.get(e)== None:\n",
    "        dictionary.update({e: 1})\n",
    "    else:\n",
    "        dictionary[e]+=1\n",
    "print(dictionary)\n",
    "if (len(dictionary) == 1):\n",
    "    print(\"Все элементы идентичны\")"
   ]
  },
  {
   "cell_type": "markdown",
   "metadata": {},
   "source": [
    "Task 7\n",
    "\n",
    "Проверить сложность пароля во входной строке. Пароль должен содержать, как минимум, одну букву в нижнем регистре, одну букву в верхнем регистре, одну цифру и не содержит никаких других символов. Минимальная длина пароля 16 символов. "
   ]
  },
  {
   "cell_type": "code",
   "execution_count": 7,
   "metadata": {},
   "outputs": [
    {
     "name": "stdout",
     "output_type": "stream",
     "text": [
      "Enter your password:\n",
      "djuhdHUHUI5458486#$%^&*\\\n"
     ]
    },
    {
     "data": {
      "text/plain": [
       "False"
      ]
     },
     "execution_count": 7,
     "metadata": {},
     "output_type": "execute_result"
    }
   ],
   "source": [
    "print('Enter your password:')\n",
    "password = input()\n",
    "def check(password):\n",
    "    if (password.isalnum() == False):\n",
    "        return False\n",
    "    elif (password.lower() == password):\n",
    "        return False\n",
    "    elif (password.upper() == password):\n",
    "        return False\n",
    "    elif (len(password) < 16):\n",
    "        return False\n",
    "    else:\n",
    "        for e in '0123456789':\n",
    "            for k in password:\n",
    "                if (e == k):\n",
    "                    return True\n",
    "    \n",
    "check(password)"
   ]
  },
  {
   "cell_type": "markdown",
   "metadata": {},
   "source": [
    "Task 8\n",
    "\n",
    "Во входном списке имеются вложенные списки, которые также могут иметь вложенные списки. Необходимо вытянуть список в одномерный массив (flatten). "
   ]
  },
  {
   "cell_type": "code",
   "execution_count": 22,
   "metadata": {},
   "outputs": [
    {
     "data": {
      "text/plain": [
       "[0, 1, 0, 1, 0, 0, 0, 44, 55]"
      ]
     },
     "execution_count": 22,
     "metadata": {},
     "output_type": "execute_result"
    }
   ],
   "source": [
    "lst = [0, 1, [0,1,[0,0,0], 44], 55]\n",
    "def flatten_list(lsst):\n",
    "    flatten_result = []\n",
    "    for e in lsst:\n",
    "        if (type(e) is list):\n",
    "             for i in e:\n",
    "                    if (type(i) is list):\n",
    "                        for k in i:\n",
    "                            flatten_result.append(k)\n",
    "                    else:\n",
    "                        flatten_result.append(i)\n",
    "        else:\n",
    "            flatten_result.append(e)\n",
    "    return flatten_result\n",
    "flatten_list(lst)"
   ]
  },
  {
   "cell_type": "markdown",
   "metadata": {},
   "source": [
    "Task 9\n",
    "\n",
    "На вход принимается словарь(dict), в котором ключами являются строки (str), а значениями числа (float). Необходимо вернуть ключ максимального значения. "
   ]
  },
  {
   "cell_type": "code",
   "execution_count": 51,
   "metadata": {},
   "outputs": [
    {
     "data": {
      "text/plain": [
       "'third'"
      ]
     },
     "execution_count": 51,
     "metadata": {},
     "output_type": "execute_result"
    }
   ],
   "source": [
    "d = {'first': 4.8, 'second': 12.2, 'third': 455.0, 'fourth': 57.9}\n",
    "def max_in_dict(dictionary):\n",
    "    max_val = 0.0\n",
    "    key_of_max = None\n",
    "    for key, value in dictionary.items():\n",
    "        if (max_val < value):\n",
    "            max_val = value\n",
    "            key_of_max = key\n",
    "    return key_of_max\n",
    "max_in_dict(d)"
   ]
  },
  {
   "cell_type": "markdown",
   "metadata": {},
   "source": [
    "Task 10\n",
    "\n",
    "Дан непустой список целых чисел (X). Необходимо вернуть список, содержащий только неуникальные значения из входного списка. Порядок чисел не должен меняться. \n",
    "\n",
    "Пример: [1,2,3,1,3] => [1,3,1,3] "
   ]
  },
  {
   "cell_type": "code",
   "execution_count": 68,
   "metadata": {},
   "outputs": [
    {
     "data": {
      "text/plain": [
       "[1, 3, 1, 3]"
      ]
     },
     "execution_count": 68,
     "metadata": {},
     "output_type": "execute_result"
    }
   ],
   "source": [
    "from collections import Counter\n",
    "lst = [1,2,3,1,3]\n",
    "res = Counter(lst)\n",
    "def ununic(lst1):\n",
    "    res_arr = []\n",
    "    for e in lst1:\n",
    "        if res.get(e) > 1:\n",
    "            res_arr.append(e)\n",
    "    return res_arr\n",
    "ununic(lst)"
   ]
  }
 ],
 "metadata": {
  "kernelspec": {
   "display_name": "Python 3",
   "language": "python",
   "name": "python3"
  },
  "language_info": {
   "codemirror_mode": {
    "name": "ipython",
    "version": 3
   },
   "file_extension": ".py",
   "mimetype": "text/x-python",
   "name": "python",
   "nbconvert_exporter": "python",
   "pygments_lexer": "ipython3",
   "version": "3.7.6"
  }
 },
 "nbformat": 4,
 "nbformat_minor": 4
}
