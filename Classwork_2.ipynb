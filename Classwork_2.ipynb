{
 "cells": [
  {
   "cell_type": "markdown",
   "metadata": {},
   "source": [
    "На вход подается текст, содержащий разные буквы латинского алфавита и символы пунктуации.\n",
    "Нужно найти букву, которая встречается чаще всего. Если таких букв больше одной, то нужно вернуть ту,\n",
    "что стоит выше в алфавите. Регистр букв не учитывается, то есть «А» == «а»."
   ]
  },
  {
   "cell_type": "code",
   "execution_count": 41,
   "metadata": {},
   "outputs": [
    {
     "data": {
      "text/plain": [
       "(79,\n",
       " 'e',\n",
       " 'meet my family. there are five of us – my parents, my elder brother, \\nmy baby sister and me. first, meet my mum and dad, jane and michael. \\nmy mum enjoys reading and my dad enjoys playing chess with my brother ken.\\nmy mum is slim and rather tall. she has long red hair and big brown eyes. \\nshe has a very pleasant smile and a soft voice. my mother is very kind and understanding\\n. we are real friends. she is a housewife. as she has three children, she is always busy\\naround the house. she takes care of my baby sister meg, who is only three months old. my sis\\nter is very small and funny. she sleeps, eats and sometimes cries. we all help our moth\\ner and let her have a rest in the evening. then she usually reads a book or just watches tv. ')"
      ]
     },
     "execution_count": 41,
     "metadata": {},
     "output_type": "execute_result"
    }
   ],
   "source": [
    "text = '''Meet my family. There are five of us – my parents, my elder brother, \n",
    "my baby sister and me. First, meet my mum and dad, Jane and Michael. \n",
    "My mum enjoys reading and my dad enjoys playing chess with my brother Ken.\n",
    "My mum is slim and rather tall. She has long red hair and big brown eyes. \n",
    "She has a very pleasant smile and a soft voice. My mother is very kind and understanding\n",
    ". We are real friends. She is a housewife. As she has three children, she is always busy\n",
    "around the house. She takes care of my baby sister Meg, who is only three months old. My sis\n",
    "ter is very small and funny. She sleeps, eats and sometimes cries. We all help our moth\n",
    "er and let her have a rest in the evening. Then she usually reads a book or just watches TV. '''\n",
    "abc = 'abcdefghijklmnopqrstuvwxyz'\n",
    "text = text.lower()\n",
    "count = 0\n",
    "for e in range(26):\n",
    "    if max < text.count(abc[e]):\n",
    "        max = text.count(abc[e])\n",
    "        letter = abc[e]\n",
    "max, letter, text"
   ]
  },
  {
   "cell_type": "markdown",
   "metadata": {},
   "source": [
    "На вход подается строка, состоящая из слов и чисел, разделенных одним пробелом. \n",
    "Слова состоят только из букв. Определить, имеется ли в передаваемой строке непрерывная последовательность из трех слов."
   ]
  },
  {
   "cell_type": "code",
   "execution_count": 25,
   "metadata": {},
   "outputs": [
    {
     "name": "stdout",
     "output_type": "stream",
     "text": [
      "YES!\n"
     ]
    }
   ],
   "source": [
    "str = 'hello my 0011 I am from 45445 Ekaterinburg'\n",
    "strings = str.split(' ')\n",
    "count = 0\n",
    "for e in strings:\n",
    "    if e.isalpha():\n",
    "        count += 1\n",
    "        if (count >= 3):\n",
    "            print('YES!')\n",
    "            break\n",
    "    else:\n",
    "        count = 0"
   ]
  },
  {
   "cell_type": "markdown",
   "metadata": {},
   "source": [
    "Найти максимальную длину непрерывной последовательности одинаковых букв во входной строке."
   ]
  },
  {
   "cell_type": "code",
   "execution_count": 39,
   "metadata": {},
   "outputs": [
    {
     "name": "stdout",
     "output_type": "stream",
     "text": [
      "0\n",
      "1\n",
      "2\n",
      "3\n",
      "4\n",
      "5\n",
      "6\n",
      "7\n",
      "9\n",
      "10\n",
      "13\n",
      "14\n",
      "15\n",
      "16\n",
      "17\n",
      "18\n",
      "19\n",
      "20\n",
      "21\n",
      "22\n",
      "23\n",
      "24\n",
      "25\n"
     ]
    },
    {
     "data": {
      "text/plain": [
       "0"
      ]
     },
     "execution_count": 39,
     "metadata": {},
     "output_type": "execute_result"
    }
   ],
   "source": [
    "str = 'sssssssssgggdhhhhhhhhhhhhhhdh'\n",
    "max = 0\n",
    "for e in range(len(str)):\n",
    "    counter = 0\n",
    "    if (e + 1 < len(str)):\n",
    "        if (str[e] == str[e+1]):\n",
    "            print(e)\n",
    "            counter+=1\n",
    "    else:\n",
    "        if (counter > max):\n",
    "            max = counter\n",
    "max"
   ]
  }
 ],
 "metadata": {
  "kernelspec": {
   "display_name": "Python 3",
   "language": "python",
   "name": "python3"
  },
  "language_info": {
   "codemirror_mode": {
    "name": "ipython",
    "version": 3
   },
   "file_extension": ".py",
   "mimetype": "text/x-python",
   "name": "python",
   "nbconvert_exporter": "python",
   "pygments_lexer": "ipython3",
   "version": "3.7.6"
  }
 },
 "nbformat": 4,
 "nbformat_minor": 4
}
